{
 "cells": [
  {
   "cell_type": "code",
   "execution_count": 12,
   "metadata": {},
   "outputs": [],
   "source": [
    "import anndata\n",
    "import numpy as np"
   ]
  },
  {
   "cell_type": "code",
   "execution_count": 2,
   "metadata": {},
   "outputs": [
    {
     "name": "stdout",
     "output_type": "stream",
     "text": [
      "250310 Check data.ipynb\n",
      "2a99fd19-9a29-48c3-9d65-47467fd7cefe.h5ad\n"
     ]
    }
   ],
   "source": [
    "ls"
   ]
  },
  {
   "cell_type": "code",
   "execution_count": 3,
   "metadata": {},
   "outputs": [],
   "source": [
    "adata = anndata.io.read_h5ad('2a99fd19-9a29-48c3-9d65-47467fd7cefe.h5ad')"
   ]
  },
  {
   "cell_type": "code",
   "execution_count": 4,
   "metadata": {},
   "outputs": [
    {
     "data": {
      "text/plain": [
       "AnnData object with n_obs × n_vars = 1058909 × 36161\n",
       "    obs: 'mapped_reference_assembly', 'alignment_software', 'library_uuid', 'assay_ontology_term_id', 'library_starting_quantity', 'is_primary_data', 'cell_type_ontology_term_id', 'author_cell_type', 'sample_uuid', 'tissue_ontology_term_id', 'development_stage_ontology_term_id', 'sample_derivation_process', 'donor_BMI_at_collection', 'suspension_derivation_process', 'suspension_enriched_cell_types', 'suspension_percent_cell_viability', 'suspension_uuid', 'suspension_type', 'donor_id', 'self_reported_ethnicity_ontology_term_id', 'donor_living_at_sample_collection', 'organism_ontology_term_id', 'disease_ontology_term_id', 'sex_ontology_term_id', 'Country', 'nCount_RNA', 'nFeature_RNA', 'Ethnicity_Selfreported', 'TCR_VDJdb', 'TCRa_V_gene', 'TCRa_D_gene', 'TCRa_J_gene', 'TCRa_C_gene', 'TCRb_V_gene', 'TCRb_D_gene', 'TCRb_J_gene', 'TCRb_C_gene', 'TCR_Clonality', 'TCR_Clone_ID', 'BCR_VDJ_V_call', 'BCR_VDJ_D_call', 'BCR_VDJ_J_call', 'BCR_VDJ_C_call', 'BCR_VJ_V_call', 'BCR_VJ_J_call', 'BCR_VJ_C_call', 'BCR_Clonality', 'BCR_Clone_size', 'BCR_mu_freq', 'tissue_type', 'cell_type', 'assay', 'disease', 'organism', 'sex', 'tissue', 'self_reported_ethnicity', 'development_stage', 'observation_joinid'\n",
       "    var: 'feature_is_filtered', 'feature_name', 'feature_reference', 'feature_biotype', 'feature_length', 'feature_type'\n",
       "    uns: 'citation', 'default_embedding', 'schema_reference', 'schema_version', 'title'\n",
       "    obsm: 'X_umap'"
      ]
     },
     "execution_count": 4,
     "metadata": {},
     "output_type": "execute_result"
    }
   ],
   "source": [
    "adata"
   ]
  },
  {
   "cell_type": "code",
   "execution_count": 5,
   "metadata": {},
   "outputs": [
    {
     "data": {
      "text/plain": [
       "Index(['mapped_reference_assembly', 'alignment_software', 'library_uuid',\n",
       "       'assay_ontology_term_id', 'library_starting_quantity',\n",
       "       'is_primary_data', 'cell_type_ontology_term_id', 'author_cell_type',\n",
       "       'sample_uuid', 'tissue_ontology_term_id',\n",
       "       'development_stage_ontology_term_id', 'sample_derivation_process',\n",
       "       'donor_BMI_at_collection', 'suspension_derivation_process',\n",
       "       'suspension_enriched_cell_types', 'suspension_percent_cell_viability',\n",
       "       'suspension_uuid', 'suspension_type', 'donor_id',\n",
       "       'self_reported_ethnicity_ontology_term_id',\n",
       "       'donor_living_at_sample_collection', 'organism_ontology_term_id',\n",
       "       'disease_ontology_term_id', 'sex_ontology_term_id', 'Country',\n",
       "       'nCount_RNA', 'nFeature_RNA', 'Ethnicity_Selfreported', 'TCR_VDJdb',\n",
       "       'TCRa_V_gene', 'TCRa_D_gene', 'TCRa_J_gene', 'TCRa_C_gene',\n",
       "       'TCRb_V_gene', 'TCRb_D_gene', 'TCRb_J_gene', 'TCRb_C_gene',\n",
       "       'TCR_Clonality', 'TCR_Clone_ID', 'BCR_VDJ_V_call', 'BCR_VDJ_D_call',\n",
       "       'BCR_VDJ_J_call', 'BCR_VDJ_C_call', 'BCR_VJ_V_call', 'BCR_VJ_J_call',\n",
       "       'BCR_VJ_C_call', 'BCR_Clonality', 'BCR_Clone_size', 'BCR_mu_freq',\n",
       "       'tissue_type', 'cell_type', 'assay', 'disease', 'organism', 'sex',\n",
       "       'tissue', 'self_reported_ethnicity', 'development_stage',\n",
       "       'observation_joinid'],\n",
       "      dtype='object')"
      ]
     },
     "execution_count": 5,
     "metadata": {},
     "output_type": "execute_result"
    }
   ],
   "source": [
    "adata.obs.columns"
   ]
  },
  {
   "cell_type": "code",
   "execution_count": 16,
   "metadata": {},
   "outputs": [
    {
     "data": {
      "text/plain": [
       "array([ 2.,  2.,  1., ...,  7., 15., 11.], dtype=float32)"
      ]
     },
     "execution_count": 16,
     "metadata": {},
     "output_type": "execute_result"
    }
   ],
   "source": [
    "adata.raw.X.data"
   ]
  },
  {
   "cell_type": "code",
   "execution_count": 17,
   "metadata": {},
   "outputs": [],
   "source": [
    "adata.X = adata.raw.X"
   ]
  },
  {
   "cell_type": "code",
   "execution_count": 18,
   "metadata": {},
   "outputs": [
    {
     "data": {
      "text/plain": [
       "index\n",
       "CCGGGATAGTCCTCCT-SG_B1_L1     CD16-positive, CD56-dim natural killer cell, h...\n",
       "CCGGTAGCACAGACTT-SG_B1_L1     CD16-positive, CD56-dim natural killer cell, h...\n",
       "TAGCCGGGTCACCTAA-SG_B1_L1                                CD14-positive monocyte\n",
       "CAGCGACTCCACTCCA-SG_B1_L1                                CD14-positive monocyte\n",
       "CACAGTAGTGTCCTCT-SG_B1_L1                CD8-positive, alpha-beta memory T cell\n",
       "                                                    ...                        \n",
       "GACTGCGCACTTAAGC-KR_B12_L2                                        memory B cell\n",
       "GTTACAGCACACTGCG-KR_B12_L2                     CD14-low, CD16-positive monocyte\n",
       "ACACTGAAGTGTTGAA-KR_B12_L2                               CD14-positive monocyte\n",
       "GATCGTACATCGACGC-KR_B12_L2                               CD14-positive monocyte\n",
       "TTCTTAGAGCTAGGCA-KR_B12_L2                                   gamma-delta T cell\n",
       "Name: cell_type, Length: 1058909, dtype: category\n",
       "Categories (33, object): ['T cell', 'erythrocyte', 'platelet', 'B cell', ..., 'CD141-positive myeloid dendritic cell', 'CD14-low, CD16-positive monocyte', 'CD1c-positive myeloid dendritic cell', 'double negative T regulatory cell']"
      ]
     },
     "execution_count": 18,
     "metadata": {},
     "output_type": "execute_result"
    }
   ],
   "source": [
    "adata.obs['cell_type']"
   ]
  },
  {
   "cell_type": "code",
   "execution_count": 19,
   "metadata": {},
   "outputs": [
    {
     "data": {
      "text/plain": [
       "['SG_HEL_H02a', 'SG_HEL_H09a', 'SG_HEL_H10a', 'SG_HEL_H11a', 'SG_HEL_H12a', ..., 'KR_SGI_H161', 'KR_SGI_H162', 'KR_SGI_H163', 'KR_SGI_H164', 'KR_SGI_H165']\n",
       "Length: 508\n",
       "Categories (508, object): ['JP_RIK_H001', 'JP_RIK_H002', 'JP_RIK_H003', 'JP_RIK_H004', ..., 'SG_HEL_H377', 'SG_HEL_H378', 'SG_HEL_H379', 'SG_HEL_H380']"
      ]
     },
     "execution_count": 19,
     "metadata": {},
     "output_type": "execute_result"
    }
   ],
   "source": [
    "adata.obs['donor_id'].unique()"
   ]
  },
  {
   "cell_type": "code",
   "execution_count": 36,
   "metadata": {},
   "outputs": [
    {
     "name": "stdout",
     "output_type": "stream",
     "text": [
      "['JP_RIK_H088' 'SG_HEL_H001' 'SG_HEL_H072' 'KR_SGI_H034' 'KR_SGI_H086'\n",
      " 'JP_RIK_H069' 'JP_RIK_H134' 'JP_RIK_H144' 'KR_SGI_H018' 'KR_SGI_H027'\n",
      " 'KR_SGI_H030' 'KR_SGI_H016' 'SG_HEL_H048' 'JP_RIK_H143' 'SG_HEL_H013'\n",
      " 'SG_HEL_H277' 'JP_RIK_H001' 'SG_HEL_H199' 'SG_HEL_H261' 'KR_SGI_H102'\n",
      " 'KR_SGI_H139' 'SG_HEL_H06a' 'SG_HEL_H164' 'SG_HEL_H166' 'KR_SGI_H107'\n",
      " 'SG_HEL_H118' 'JP_RIK_H039' 'SG_HEL_H093' 'LONZA3038306' 'JP_RIK_H057'\n",
      " 'JP_RIK_H132' 'JP_RIK_H105' 'SG_HEL_H283' 'KR_SGI_H134' 'SG_HEL_H11a'\n",
      " 'SG_HEL_H266' 'KR_SGI_H152' 'SG_HEL_H193' 'SG_HEL_H316' 'SG_HEL_H217'\n",
      " 'KR_SGI_H103' 'KR_SGI_H146' 'JP_RIK_H071' 'SG_HEL_H314' 'KR_SGI_H063'\n",
      " 'JP_RIK_H018' 'JP_RIK_H126' 'JP_RIK_H063' 'JP_RIK_H053' 'SG_HEL_H094']\n"
     ]
    }
   ],
   "source": [
    "donor_ids = adata.obs['donor_id'].unique()\n",
    "sampled_donors = np.random.choice(donor_ids, 50, replace=False)\n",
    "print(sampled_donors)"
   ]
  },
  {
   "cell_type": "code",
   "execution_count": 39,
   "metadata": {},
   "outputs": [],
   "source": [
    "sadata = adata[adata.obs.query('donor_id in @sampled_donors').index].copy()"
   ]
  },
  {
   "cell_type": "code",
   "execution_count": 40,
   "metadata": {},
   "outputs": [],
   "source": [
    "sadata.write_h5ad('250310.sampled.h5ad')"
   ]
  },
  {
   "cell_type": "code",
   "execution_count": 41,
   "metadata": {},
   "outputs": [
    {
     "name": "stdout",
     "output_type": "stream",
     "text": [
      "total 26747280\n",
      "-rw-r--r--@ 1 val  staff   9.5K Mar 10 22:14 250310 Check data.ipynb\n",
      "-rw-r--r--@ 1 val  staff   3.2G Mar 10 22:14 250310.sampled.h5ad\n",
      "-rw-r--r--@ 1 val  staff   9.6G Mar 10 21:34 2a99fd19-9a29-48c3-9d65-47467fd7cefe.h5ad\n"
     ]
    }
   ],
   "source": [
    "ls -lh"
   ]
  },
  {
   "cell_type": "code",
   "execution_count": null,
   "metadata": {},
   "outputs": [],
   "source": []
  },
  {
   "cell_type": "code",
   "execution_count": null,
   "metadata": {},
   "outputs": [],
   "source": []
  },
  {
   "cell_type": "code",
   "execution_count": null,
   "metadata": {},
   "outputs": [],
   "source": []
  },
  {
   "cell_type": "code",
   "execution_count": null,
   "metadata": {},
   "outputs": [],
   "source": []
  }
 ],
 "metadata": {
  "kernelspec": {
   "display_name": "base",
   "language": "python",
   "name": "python3"
  },
  "language_info": {
   "codemirror_mode": {
    "name": "ipython",
    "version": 3
   },
   "file_extension": ".py",
   "mimetype": "text/x-python",
   "name": "python",
   "nbconvert_exporter": "python",
   "pygments_lexer": "ipython3",
   "version": "3.12.8"
  }
 },
 "nbformat": 4,
 "nbformat_minor": 2
}
